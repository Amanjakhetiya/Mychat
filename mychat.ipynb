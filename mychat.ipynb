{
 "cells": [
  {
   "cell_type": "code",
   "execution_count": 23,
   "metadata": {},
   "outputs": [],
   "source": [
    "import numpy as np\n",
    "import cv2\n",
    "\n",
    "def p(text,ima):\n",
    "    cv2.imshow(text,ima)\n",
    "    cv2.waitKey(0)\n",
    "    cv2.destroyAllWindows()\n",
    "\n",
    "    \n",
    "def re(ima,width):\n",
    "    factor=1.0*width/ima.shape[1];\n",
    "    resized=cv2.resize(ima,(0,0),fx=factor,fy=factor)\n",
    "    return resized\n",
    "\n",
    "\n",
    "man=cv2.imread(\"face.jpg\")\n",
    "man=re(man,300)\n",
    "p(\"faces\",man)\n"
   ]
  },
  {
   "cell_type": "code",
   "execution_count": 24,
   "metadata": {},
   "outputs": [],
   "source": [
    "glasses=cv2.imread(\"glasses.png\",cv2.IMREAD_UNCHANGED)\n",
    "alpha=glasses[:,:,3]\n",
    "rgb=glasses[:,:,:3]\n",
    "glasses.shape\n",
    "p(\"gla\",glasses)\n",
    "#p(\"glasses\",alpha)\n",
    "#p(\"r\",rgb)"
   ]
  },
  {
   "cell_type": "code",
   "execution_count": 25,
   "metadata": {},
   "outputs": [
    {
     "data": {
      "text/plain": [
       "'sum=0\\nfor c in range(4):\\n    sum+=np.sum(glasses[:,:,c])\\nprint(sum)'"
      ]
     },
     "execution_count": 25,
     "metadata": {},
     "output_type": "execute_result"
    }
   ],
   "source": [
    "'''sum=0\n",
    "for c in range(4):\n",
    "    sum+=np.sum(glasses[:,:,c])\n",
    "print(sum)'''"
   ]
  },
  {
   "cell_type": "code",
   "execution_count": 26,
   "metadata": {},
   "outputs": [],
   "source": [
    "face_cascade=cv2.CascadeClassifier(\"haarcascade_frontalface_default.xml\")\n",
    "eye_cascade=cv2.CascadeClassifier(\"haarcascade_eye.xml\")"
   ]
  },
  {
   "cell_type": "code",
   "execution_count": 27,
   "metadata": {},
   "outputs": [],
   "source": [
    "features=face_cascade.detectMultiScale(cv2.cvtColor(man,cv2.COLOR_BGR2GRAY),1.3,5)"
   ]
  },
  {
   "cell_type": "code",
   "execution_count": 28,
   "metadata": {},
   "outputs": [],
   "source": [
    "(x,y,w,h)=features[0]"
   ]
  },
  {
   "cell_type": "code",
   "execution_count": 29,
   "metadata": {},
   "outputs": [],
   "source": [
    "sub_img=cv2.cvtColor(man,cv2.COLOR_BGR2GRAY)[y:y+h,x:x+w]\n",
    "eye_feat=eye_cascade.detectMultiScale(sub_img)"
   ]
  },
  {
   "cell_type": "code",
   "execution_count": 30,
   "metadata": {},
   "outputs": [],
   "source": [
    "xpos,ypos=x,y+eye_feat[0,1]"
   ]
  },
  {
   "cell_type": "code",
   "execution_count": 31,
   "metadata": {},
   "outputs": [],
   "source": [
    "def draw(image,sprite,xpos,ypos):\n",
    "    (h,w)=(sprite.shape[0],sprite.shape[1])\n",
    "    \n",
    "    for c in range(3):\n",
    "        image[ypos:ypos+h,xpos:xpos+w,c]= sprite[:,:,c]*(sprite[:,:,3]/255)+image[ypos:ypos+h,xpos:xpos+w,c]*(1.0-sprite[:,:,3]/255)\n",
    "    return image"
   ]
  },
  {
   "cell_type": "code",
   "execution_count": 32,
   "metadata": {},
   "outputs": [],
   "source": [
    "spr=re(glasses,w)\n",
    "final=draw(man,spr,xpos,ypos)\n",
    "p(\"image\",final)"
   ]
  },
  {
   "cell_type": "code",
   "execution_count": 33,
   "metadata": {},
   "outputs": [],
   "source": [
    "cap=cv2.VideoCapture(0)\n",
    "while 1:\n",
    "    _,frame=cap.read()\n",
    "    \n",
    "    features=face_cascade.detectMultiScale(cv2.cvtColor(frame,cv2.COLOR_BGR2GRAY),1.3,5)\n",
    "    \n",
    "    for (x,y,w,h) in features:\n",
    "        sub_img=cv2.cvtColor(frame,cv2.COLOR_BGR2GRAY)[y:y+h,x:x+w]\n",
    "        eye_feat=eye_cascade.detectMultiScale(sub_img)\n",
    "        \n",
    "        #for (xe,ye,we,he) in eye_feat:\n",
    "        if len(eye_feat)!=0:\n",
    "            \n",
    "            xpos,ypos=x,y+eye_feat[0][1]\n",
    "                \n",
    "                \n",
    "            spr=re(glasses,w)\n",
    "            final=draw(frame,spr,xpos,ypos)\n",
    "    cv2.imshow(\"final\",final)\n",
    "    k=cv2.waitKey(1)\n",
    "    if k==ord('q'):\n",
    "        break\n",
    "              \n",
    "          \n",
    "        \n",
    "        \n",
    "cap.release()\n",
    "cv2.destroyAllWindows()\n",
    "            \n",
    "                \n",
    "            \n",
    "       \n",
    "        \n",
    "        \n",
    "        \n",
    "    \n",
    "    \n",
    "\n",
    "    "
   ]
  },
  {
   "cell_type": "code",
   "execution_count": null,
   "metadata": {},
   "outputs": [],
   "source": []
  }
 ],
 "metadata": {
  "kernelspec": {
   "display_name": "Python 3",
   "language": "python",
   "name": "python3"
  },
  "language_info": {
   "codemirror_mode": {
    "name": "ipython",
    "version": 3
   },
   "file_extension": ".py",
   "mimetype": "text/x-python",
   "name": "python",
   "nbconvert_exporter": "python",
   "pygments_lexer": "ipython3",
   "version": "3.7.3"
  }
 },
 "nbformat": 4,
 "nbformat_minor": 2
}
